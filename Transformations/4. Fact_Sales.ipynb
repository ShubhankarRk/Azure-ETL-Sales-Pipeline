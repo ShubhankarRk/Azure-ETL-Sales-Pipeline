{
 "cells": [
  {
   "cell_type": "code",
   "execution_count": 0,
   "metadata": {
    "application/vnd.databricks.v1+cell": {
     "cellMetadata": {
      "byteLimit": 2048000,
      "implicitDf": true,
      "rowLimit": 10000
     },
     "inputWidgets": {},
     "nuid": "ab58dcfb-ff84-4616-91b7-d8c14dc1c0fd",
     "showTitle": false,
     "tableResultSettingsMap": {},
     "title": ""
    }
   },
   "outputs": [],
   "source": [
    "df_main = spark.sql(\"SELECT * from PARQUET.`abfss://silver@salesetldatalake.dfs.core.windows.net/silver_data`\")"
   ]
  },
  {
   "cell_type": "code",
   "execution_count": 0,
   "metadata": {
    "application/vnd.databricks.v1+cell": {
     "cellMetadata": {
      "byteLimit": 2048000,
      "implicitDf": true,
      "rowLimit": 10000
     },
     "inputWidgets": {},
     "nuid": "43f39768-9bce-4c92-9de0-2eaa3cbb8a55",
     "showTitle": false,
     "tableResultSettingsMap": {},
     "title": ""
    }
   },
   "outputs": [],
   "source": [
    "%sql\n",
    "SHOW CATALOGS;"
   ]
  },
  {
   "cell_type": "code",
   "execution_count": 0,
   "metadata": {
    "application/vnd.databricks.v1+cell": {
     "cellMetadata": {
      "byteLimit": 2048000,
      "rowLimit": 10000
     },
     "inputWidgets": {},
     "nuid": "35717541-fd3b-49b0-a5d0-4e2aa2ee8cd9",
     "showTitle": false,
     "tableResultSettingsMap": {},
     "title": ""
    }
   },
   "outputs": [],
   "source": [
    "df_model = spark.sql(\"SELECT * FROM sales_catalog.gold.dim_models\")\n",
    "# df_model.display()"
   ]
  },
  {
   "cell_type": "code",
   "execution_count": 0,
   "metadata": {
    "application/vnd.databricks.v1+cell": {
     "cellMetadata": {
      "byteLimit": 2048000,
      "rowLimit": 10000
     },
     "inputWidgets": {},
     "nuid": "cfc56d27-39a5-4d4e-a870-df4b3c595981",
     "showTitle": false,
     "tableResultSettingsMap": {},
     "title": ""
    }
   },
   "outputs": [],
   "source": [
    "df_branch = spark.sql(\"SELECT * FROM sales_catalog.gold.dim_branch\")\n",
    "df_dealer = spark.sql(\"SELECT * FROM sales_catalog.gold.dim_dealer\")\n",
    "df_date = spark.sql(\"SELECT * FROM sales_catalog.gold.dim_date\")"
   ]
  },
  {
   "cell_type": "code",
   "execution_count": 0,
   "metadata": {
    "application/vnd.databricks.v1+cell": {
     "cellMetadata": {
      "byteLimit": 2048000,
      "rowLimit": 10000
     },
     "inputWidgets": {},
     "nuid": "8d1ff379-d12d-4050-b0ac-561ecd1758b4",
     "showTitle": false,
     "tableResultSettingsMap": {},
     "title": ""
    }
   },
   "outputs": [],
   "source": [
    "fact_df = df_main.join(df_branch,df_main.Branch_ID == df_branch.Branch_ID, how='left')\\\n",
    "    .join(df_dealer,df_main.Dealer_ID == df_dealer.Dealer_ID, how='left')\\\n",
    "        .join(df_model,df_main.Model_ID == df_model.Model_ID, how='left')\\\n",
    "            .join(df_date,df_main.Date_ID == df_date.Date_ID, how='left')\\\n",
    "                .select(df_main.Revenue, df_main.Units_Sold, df_branch.branch_key, df_dealer.dealer_key, df_date.date_key, df_model.Product_Name, df_model.model_key)"
   ]
  },
  {
   "cell_type": "code",
   "execution_count": 0,
   "metadata": {
    "application/vnd.databricks.v1+cell": {
     "cellMetadata": {
      "byteLimit": 2048000,
      "rowLimit": 10000
     },
     "inputWidgets": {},
     "nuid": "cfa554ff-e8d0-45b7-9666-2a581c30bfb1",
     "showTitle": false,
     "tableResultSettingsMap": {},
     "title": ""
    }
   },
   "outputs": [],
   "source": [
    "fact_df.display()"
   ]
  },
  {
   "cell_type": "code",
   "execution_count": 0,
   "metadata": {
    "application/vnd.databricks.v1+cell": {
     "cellMetadata": {
      "byteLimit": 2048000,
      "rowLimit": 10000
     },
     "inputWidgets": {},
     "nuid": "bbbfa1f2-66f5-4134-8057-51c97cd8b2a2",
     "showTitle": false,
     "tableResultSettingsMap": {},
     "title": ""
    }
   },
   "outputs": [],
   "source": [
    "if spark.catalog.tableExists(\"fact_df\"):\n",
    "    deltatab = DeltaTable.forName(spark, \"sales_catalog.gold.fact_df\")\n",
    "    deltatab.alias(\"t\").merge(fact_df.alias(\"s\"), \"t.branch_key = s.branch_key AND t.dealer_key = s.dealer_key AND t.date_key = s.date_key AND t.model_key = s.model_key\")\\\n",
    "        .whenMatched().updateAll()\\\n",
    "            .whenNotMatchedInsertAll()\\\n",
    "            .execute()\n",
    "\n",
    "else:\n",
    "    fact_df.write.format('delta').mode('overwrite').option(\"path\",\"abfss://gold@salesetldatalake.dfs.core.windows.net/fact_df\")\\\n",
    "        .saveAsTable(\"sales_catalog.gold.fact_df\")"
   ]
  },
  {
   "cell_type": "code",
   "execution_count": 0,
   "metadata": {
    "application/vnd.databricks.v1+cell": {
     "cellMetadata": {
      "byteLimit": 2048000,
      "implicitDf": true,
      "rowLimit": 10000
     },
     "inputWidgets": {},
     "nuid": "a20f4940-7526-4154-a1d9-3f4df28f35aa",
     "showTitle": false,
     "tableResultSettingsMap": {},
     "title": ""
    }
   },
   "outputs": [],
   "source": [
    "%sql\n",
    "select * from sales_catalog.gold.fact_df;"
   ]
  }
 ],
 "metadata": {
  "application/vnd.databricks.v1+notebook": {
   "computePreferences": null,
   "dashboards": [],
   "environmentMetadata": {
    "base_environment": "",
    "environment_version": "2"
   },
   "inputWidgetPreferences": null,
   "language": "python",
   "notebookMetadata": {
    "mostRecentlyExecutedCommandWithImplicitDF": {
     "commandId": 8276679124416514,
     "dataframes": [
      "_sqldf"
     ]
    },
    "pythonIndentUnit": 4
   },
   "notebookName": "4. Fact_Sales",
   "widgets": {}
  },
  "language_info": {
   "name": "python"
  }
 },
 "nbformat": 4,
 "nbformat_minor": 0
}
